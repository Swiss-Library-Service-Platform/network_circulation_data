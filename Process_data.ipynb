{
 "cells": [
  {
   "cell_type": "markdown",
   "id": "582b0f7e",
   "metadata": {},
   "source": [
    "# Circulation newtwork\n",
    "\n",
    "A Rapido request contains a lending request and a corresponding borrowing request. The reports are the result of merging the borrowing requests information into the lending requests information.\n",
    "\n",
    "Lending requests are master.\n",
    "\n",
    "The lending requests are splitted into 3 parts. Otherwise it could be hard to download data at once.\n",
    "\n",
    "This script  uses 5 csv files to build the reports:\n",
    "* NZ_RAPIDO_borrowing.csv: list of borrowing requests\n",
    "* NZ_RAPIDO_borrowing_Renouvaud.csv: borrowing requests of Renouvaud. There is no lending request if Renouvaud fulfill the request. Renouvaud is however as partner in borrowing request.\n",
    "* NZ_RAPIDO_lending.csv: main information of lending requests\n",
    "* NZ_RAPIDO_lending_bib.csv: bibliographical data of lending requests\n",
    "* NZ_RAPIDO_lending_part.csv: partner info of lending requests\n",
    "\n",
    "In analytics, two reports need to be updated with date information:\n",
    "* Lending_requests_external_ids\n",
    "* NZ_RAPIDO_borrowing_Renouvaud\n",
    "\n",
    "Reports are NZ Analytics: `/Shared Folders/SLSP Network Zone 41SLSP_NETWORK/Reports/SLSP_courier_statistics`\n",
    "\n",
    "Documentation on SLSPhere: https://slsp.atlassian.net/wiki/spaces/PSI/pages/465404065/Network+circulation+statistics\n",
    "\n"
   ]
  },
  {
   "cell_type": "code",
   "execution_count": 1,
   "id": "92fa5a68",
   "metadata": {},
   "outputs": [],
   "source": [
    "# Import libraries\n",
    "import pandas as pd\n",
    "import seaborn as sns\n",
    "import numpy as np\n",
    "import matplotlib.pyplot as plt\n",
    "import openpyxl\n",
    "from datetime import date\n",
    "from openpyxl import Workbook, load_workbook\n",
    "from openpyxl.utils.dataframe import dataframe_to_rows\n",
    "from openpyxl.worksheet.dimensions import ColumnDimension, DimensionHolder\n",
    "from openpyxl.utils import get_column_letter\n",
    "from openpyxl.styles import Font\n",
    "from copy import copy\n",
    "pd.set_option('display.max_columns', None)\n",
    "pd.set_option('display.max_rows', 50)"
   ]
  },
  {
   "cell_type": "code",
   "execution_count": 2,
   "id": "fe4d487f",
   "metadata": {},
   "outputs": [],
   "source": [
    "# Tools used to build and design Excel sheet\n",
    "def copy_cell_contents(source_sheet, target_sheet):\n",
    "    \"\"\"Copy one to one content and format of a cell\n",
    "    \"\"\"\n",
    "    mr = source_sheet.max_row\n",
    "    mc = source_sheet.max_column\n",
    "    # copying the cell values from source \n",
    "    # excel file to destination excel file\n",
    "\n",
    "    for i in range (1, mr + 1):\n",
    "        for j in range (1, mc + 1):\n",
    "            # reading cell value from source excel file\n",
    "            source_cell = ws_exp.cell(row = i, column = j)\n",
    "\n",
    "            # writing the read value to destination excel file\n",
    "            target_cell = target_sheet.cell(row = i, column = j)\n",
    "            target_cell.value = source_cell.value\n",
    "\n",
    "            if source_cell.has_style:\n",
    "                target_cell.font = copy(source_cell.font)\n",
    "                target_cell.border = copy(source_cell.border)\n",
    "                target_cell.fill = copy(source_cell.fill)\n",
    "                target_cell.number_format = copy(source_cell.number_format)\n",
    "                target_cell.protection = copy(source_cell.protection)\n",
    "                target_cell.alignment = copy(source_cell.alignment)\n",
    "\n",
    "def copy_sheet_attributes(source_sheet, target_sheet):\n",
    "    \"\"\"Copy format of an entire sheet.\n",
    "    \"\"\"\n",
    "    # set row dimensions\n",
    "    # So you cannot copy the row_dimensions attribute. Does not work (because of meta data in the attribute I think). So we copy every row's row_dimensions. That seems to work.\n",
    "    for rn in range(len(source_sheet.row_dimensions)):\n",
    "        target_sheet.row_dimensions[rn] = copy(source_sheet.row_dimensions[rn])\n",
    "\n",
    "    if source_sheet.sheet_format.defaultColWidth is None:\n",
    "        pass\n",
    "    else:\n",
    "        target_sheet.sheet_format.defaultColWidth = copy(source_sheet.sheet_format.defaultColWidth)\n",
    "\n",
    "    # set specific column width and hidden property\n",
    "    # we cannot copy the entire column_dimensions attribute so we copy selected attributes\n",
    "    for key, value in source_sheet.column_dimensions.items():\n",
    "        target_sheet.column_dimensions[key].min = copy(source_sheet.column_dimensions[key].min)   # Excel actually groups multiple columns under 1 key. Use the min max attribute to also group the columns in the targetSheet\n",
    "        target_sheet.column_dimensions[key].max = copy(source_sheet.column_dimensions[key].max)  # https://stackoverflow.com/questions/36417278/openpyxl-can-not-read-consecutive-hidden-columns discussed the issue. Note that this is also the case for the width, not onl;y the hidden property\n",
    "        target_sheet.column_dimensions[key].width = copy(source_sheet.column_dimensions[key].width) # set width for every column\n",
    "        target_sheet.column_dimensions[key].hidden = copy(source_sheet.column_dimensions[key].hidden)\n",
    "\n",
    "def set_columns_width(ws):\n",
    "    \"\"\"Used to define the width of the various columns of the report.\n",
    "    \"\"\"\n",
    "    columns_width = {'A': 25,\n",
    " 'B': 22,\n",
    " 'C': 20,\n",
    " 'D': 20,\n",
    " 'E': 12,\n",
    " 'F': 12,\n",
    " 'G': 18,\n",
    " 'H': 12,\n",
    " 'I': 12,\n",
    " 'J': 18,\n",
    " 'K': 12,\n",
    " 'L': 18,\n",
    " 'M': 18,\n",
    " 'N': 18,\n",
    " 'O': 18,\n",
    " 'P': 15,\n",
    " 'Q': 25,\n",
    " 'R': 10,\n",
    " 'S': 10,\n",
    " 'T': 10,\n",
    " 'U': 10,\n",
    " 'V': 10,\n",
    " 'W': 18,\n",
    " 'X': 18,\n",
    " 'Y': 20,\n",
    " 'Z': 20,\n",
    " 'AA': 20,\n",
    " 'AB': 12,\n",
    " 'AC': 8,\n",
    " 'AD': 8,\n",
    " 'AE': 10,\n",
    " 'AF': 10}\n",
    "    for e in columns_width:\n",
    "        columns_width[e] *= 1.1\n",
    "\n",
    "    dim_holder = DimensionHolder(worksheet=ws)\n",
    "\n",
    "    for col in range(ws.min_column, ws.max_column + 1):\n",
    "        dim_holder[get_column_letter(col)] = ColumnDimension(ws, min=col, max=col, width=columns_width[get_column_letter(col)])\n",
    "    ws.column_dimensions = dim_holder\n",
    "\n",
    "def transform_iz_code(raw_code):\n",
    "    \"\"\"Harmonize IZ codes\n",
    "    \"\"\"\n",
    "    \n",
    "    if raw_code == '41BIG_INST':\n",
    "        return 'BVERW'\n",
    "    \n",
    "    inst = raw_code.split('_')[1]\n",
    "    if inst == 'FHO':\n",
    "        inst = 'OSTGR'\n",
    "    if inst == 'SUP':\n",
    "        inst = 'SUPSI'\n",
    "    if inst == 'PHZ':\n",
    "        inst = 'ZPH'\n",
    "    if inst == 'RRO':\n",
    "        inst = 'ISR'\n",
    "    if inst == 'UGE':\n",
    "        inst = 'UNIGE'\n",
    "    if inst == 'UNE':\n",
    "        inst = 'UNINE'\n",
    "    if inst == 'FNW':\n",
    "        inst = 'FHNW'\n",
    "    if inst == 'ZHK':\n",
    "        inst = 'ZHDK'\n",
    "    if inst == 'HES':\n",
    "        inst = 'HESSO'\n",
    "    if inst == 'EPF':\n",
    "        inst = 'EPFL'\n",
    "    if inst == 'IID':\n",
    "        inst = 'IHEID'\n",
    "    if inst == 'LIB':\n",
    "        inst = 'LIB4RI'\n",
    "    if inst == 'ZAW':\n",
    "        inst = 'ZHAW'\n",
    "    if inst == 'RBE':\n",
    "        inst = 'BSB'\n",
    "    return inst"
   ]
  },
  {
   "cell_type": "code",
   "execution_count": 3,
   "id": "37ea4f35",
   "metadata": {},
   "outputs": [],
   "source": [
    "# Load data\n",
    "lend_req_base = pd.read_csv('data/NZ_RAPIDO_lending.csv', dtype=str)\n",
    "lend_req_bib = pd.read_csv('data/NZ_RAPIDO_lending_bib.csv', dtype=str)\n",
    "lend_req_part = pd.read_csv('data/NZ_RAPIDO_lending_part.csv', dtype=str)\n",
    "bor_req = pd.read_csv('data/NZ_RAPIDO_borrowing.csv', dtype=str)\n",
    "bor_to_ren_req = pd.read_csv('data/NZ_RAPIDO_borrowing_Renouvaud.csv', dtype=str)"
   ]
  },
  {
   "cell_type": "code",
   "execution_count": 4,
   "id": "95b1dc95",
   "metadata": {},
   "outputs": [],
   "source": [
    "# Merge lending requests data: base + partners\n",
    "lend_req = lend_req_base.merge(lend_req_bib, on='External Request Id', how='left').merge(lend_req_part, on='External Request Id', how='left')"
   ]
  },
  {
   "cell_type": "code",
   "execution_count": 5,
   "id": "9f7e39b6",
   "metadata": {},
   "outputs": [],
   "source": [
    "# Cleaning, lending requests\n",
    "\n",
    "# If not physical item is sent, the row is deleted\n",
    "lend_req = lend_req.loc[lend_req['Lending Request Status']!='Shipped Digitally']\n",
    "\n",
    "# Without external id, it is impossible to match with borrowing requests\n",
    "lend_req = lend_req.loc[~pd.isnull(lend_req['External Request Id'])]\n",
    "\n",
    "# Note as test request containing \"Test\"\n",
    "lend_req['Lending Is test'] = lend_req['Note'].str.contains('Test', case=False)\n",
    "\n",
    "# Harmonize Institution codes\n",
    "lend_req['Institution Code'] = lend_req['Institution Code'].apply(transform_iz_code)\n",
    "\n",
    "# Create a new column with the external id without the prefix. It is used to match with the borrowing requests\n",
    "lend_req['Simple external Id'] = lend_req['External Request Id'].apply(lambda x: x.split('//')[-1])"
   ]
  },
  {
   "cell_type": "code",
   "execution_count": 6,
   "id": "2c2d52b6",
   "metadata": {},
   "outputs": [],
   "source": [
    "# Cleaning, borrowing requests\n",
    "\n",
    "# Note the requests as test if a note contains \"Test\" \n",
    "bor_req['Borrowing Is test'] = bor_req['Note'].str.contains('Test', case=False)\n",
    "bor_to_ren_req['Borrowing Is test'] = bor_to_ren_req['Note'].str.contains('Test', case=False)\n",
    "\n",
    "# Harmonize Institution codes\n",
    "bor_req['Institution Code'] = bor_req['Institution Code'].apply(transform_iz_code)\n",
    "bor_to_ren_req['Institution Code'] = bor_to_ren_req['Institution Code'].apply(transform_iz_code)"
   ]
  },
  {
   "cell_type": "code",
   "execution_count": 7,
   "id": "88eb7c22",
   "metadata": {},
   "outputs": [
    {
     "data": {
      "text/plain": [
       "Index(['External Request Id', 'Internal Id', 'Item Sent Date (Calendar)',\n",
       "       'Lending Request Status', 'Note', 'Institution Code', 'Library Code',\n",
       "       'Library Name', 'Permanent Physical Location Code',\n",
       "       'Permanent Call Number', 'Barcode', 'MMS Id', 'Network Id', 'ISSN',\n",
       "       'ISBN', 'Title', 'Partner Id', 'Partner Name', 'Lending Is test',\n",
       "       'Simple external Id'],\n",
       "      dtype='object')"
      ]
     },
     "execution_count": 7,
     "metadata": {},
     "output_type": "execute_result"
    }
   ],
   "source": [
    "lend_req.columns"
   ]
  },
  {
   "cell_type": "code",
   "execution_count": 8,
   "id": "4a6790eb",
   "metadata": {},
   "outputs": [],
   "source": [
    "# Rename columns\n",
    "lend_req.columns = ['External Request Id', 'Lending Internal Id', 'Item Sent Date',\n",
    "       'Lending Request Status', 'Lending Note', 'From IZ', 'From Library Code',\n",
    "       'From Library Name', 'Permanent Physical Location Code',\n",
    "       'Permanent Call Number', 'Barcode', 'MMS Id', 'Network Id', 'ISSN', 'ISBN',\n",
    "       'Title', 'Borrowing Partner Id', 'Borrowing Partner Name', 'Lending Is test', 'Simple external Id']"
   ]
  },
  {
   "cell_type": "code",
   "execution_count": 9,
   "id": "7e7130c1",
   "metadata": {},
   "outputs": [
    {
     "data": {
      "text/plain": [
       "Index(['External Identifier', 'Internal Id', 'Shipping Date (Calendar)',\n",
       "       'Item Loan Date (Calendar)', 'Item Return Date (Calendar)',\n",
       "       'Item Arrival Date (Calendar)', 'Lending Institution',\n",
       "       'Cancellation Reason', 'Borrowing Request Status',\n",
       "       'Request Completed Indicator', 'Is Filled', 'Note', 'User Group Code',\n",
       "       'Institution Code', 'Library Code', 'Library Name',\n",
       "       'Borrowing Creation Date', 'Partner Id', 'Partner Code', 'Request Type',\n",
       "       'Borrowing Is test'],\n",
       "      dtype='object')"
      ]
     },
     "execution_count": 9,
     "metadata": {},
     "output_type": "execute_result"
    }
   ],
   "source": [
    "bor_req.columns"
   ]
  },
  {
   "cell_type": "code",
   "execution_count": 10,
   "id": "e578fb73",
   "metadata": {},
   "outputs": [],
   "source": [
    "# Rename columns\n",
    "bor_req.columns = ['External Identifier', 'Borrowing Internal Id',\n",
    "       'Shipping Date', 'Item Loan Date',\n",
    "       'Item Return Date',\n",
    "       'Item Arrival Date', 'Lending Institution',\n",
    "       'Borrowing Cancellation Reason', 'Borrowing Request Status',\n",
    "       'Request Completed Indicator', 'Borrowing Is Filled', 'Borrowing Note', 'User Group Code',\n",
    "       'To IZ', 'To Library Code', 'To Library Name',\n",
    "       'Borrowing Creation Date', 'Lending Partner Id', 'Lending Partner Code',\n",
    "       'Request Type', 'Borrowing Is test']"
   ]
  },
  {
   "cell_type": "code",
   "execution_count": 11,
   "id": "b286eff5",
   "metadata": {},
   "outputs": [
    {
     "data": {
      "text/plain": [
       "Index(['External Identifier', 'Internal Id', 'Shipping Date (Calendar)',\n",
       "       'Item Loan Date (Calendar)', 'Item Return Date (Calendar)',\n",
       "       'Item Arrival Date (Calendar)', 'Lending Institution',\n",
       "       'Cancellation Reason', 'Borrowing Request Status',\n",
       "       'Request Completed Indicator', 'Is Filled', 'Note', 'User Group Code',\n",
       "       'Institution Code', 'Library Code', 'Library Name',\n",
       "       'Borrowing Creation Date', 'Partner Id', 'Partner Code', 'Partner Name',\n",
       "       'Request Type', 'Title', 'ISSN', 'ISBN', 'MMS Id', 'Borrowing Is test'],\n",
       "      dtype='object')"
      ]
     },
     "execution_count": 11,
     "metadata": {},
     "output_type": "execute_result"
    }
   ],
   "source": [
    "bor_to_ren_req.columns"
   ]
  },
  {
   "cell_type": "code",
   "execution_count": 12,
   "id": "3a99eb0f",
   "metadata": {},
   "outputs": [],
   "source": [
    "# Rename columns\n",
    "bor_to_ren_req.columns = ['External Identifier',\n",
    "                          'Borrowing Internal Id',\n",
    "                          'Item Sent Date',\n",
    "                          'Item Loan Date',\n",
    "                          'Item Return Date',\n",
    "                          'Item Arrival Date',\n",
    "                          'Lending Institution',\n",
    "                          'Borrowing Cancellation Reason',\n",
    "                          'Borrowing Request Status',\n",
    "                          'Request Completed Indicator',\n",
    "                          'Borrowing Is Filled',\n",
    "                          'Borrowing Note',\n",
    "                          'User Group Code',\n",
    "                          'To IZ',\n",
    "                          'To Library Code',\n",
    "                          'To Library Name',\n",
    "                          'Borrowing Creation Date',\n",
    "                          'From IZ',\n",
    "                          'From Library Code',\n",
    "                          'From Library Name',\n",
    "                          'Request Type',\n",
    "                          'Title',\n",
    "                          'ISSN',\n",
    "                          'ISBN',\n",
    "                          'MMS Id',\n",
    "                          'Borrowing Is test']\n",
    "\n",
    "# Move Renouvaud partner to the equivalent of borrowing requests\n",
    "bor_to_ren_req.loc[bor_to_ren_req['From Library Name'].str.contains('Renouvaud'), 'From IZ'] = 'RENOUVAUD'\n",
    "bor_to_ren_req['From Library Code'] = bor_to_ren_req['From Library Code'].str.split(' > ').apply(lambda x: x[-1])\n",
    "bor_to_ren_req['From Library Name'] = bor_to_ren_req['From Library Name'].str.split(' > ').apply(lambda x: x[-1])"
   ]
  },
  {
   "cell_type": "code",
   "execution_count": 13,
   "id": "f2d7e480",
   "metadata": {},
   "outputs": [],
   "source": [
    "# Merge of lending requests with borrowing requests\n",
    "req = lend_req.merge(bor_req, left_on='Simple external Id', right_on='External Identifier', how='left')\n",
    "\n",
    "# Data of Renouvaud is incomplete, simply add to the end the remaining data of Renouvaud\n",
    "req = pd.concat([req, bor_to_ren_req])"
   ]
  },
  {
   "cell_type": "code",
   "execution_count": 14,
   "id": "21f0f214",
   "metadata": {},
   "outputs": [
    {
     "data": {
      "text/plain": [
       "Index(['External Request Id', 'Lending Internal Id', 'Item Sent Date',\n",
       "       'Lending Request Status', 'Lending Note', 'From IZ',\n",
       "       'From Library Code', 'From Library Name',\n",
       "       'Permanent Physical Location Code', 'Permanent Call Number', 'Barcode',\n",
       "       'MMS Id', 'Network Id', 'ISSN', 'ISBN', 'Title', 'Borrowing Partner Id',\n",
       "       'Borrowing Partner Name', 'Lending Is test', 'Simple external Id',\n",
       "       'External Identifier', 'Borrowing Internal Id', 'Shipping Date',\n",
       "       'Item Loan Date', 'Item Return Date', 'Item Arrival Date',\n",
       "       'Lending Institution', 'Borrowing Cancellation Reason',\n",
       "       'Borrowing Request Status', 'Request Completed Indicator',\n",
       "       'Borrowing Is Filled', 'Borrowing Note', 'User Group Code', 'To IZ',\n",
       "       'To Library Code', 'To Library Name', 'Borrowing Creation Date',\n",
       "       'Lending Partner Id', 'Lending Partner Code', 'Request Type',\n",
       "       'Borrowing Is test'],\n",
       "      dtype='object')"
      ]
     },
     "execution_count": 14,
     "metadata": {},
     "output_type": "execute_result"
    }
   ],
   "source": [
    "req.columns"
   ]
  },
  {
   "cell_type": "code",
   "execution_count": 15,
   "id": "337fdfc2",
   "metadata": {},
   "outputs": [
    {
     "data": {
      "text/plain": [
       "Index(['External Request Id', 'Lending Internal Id', 'Item Sent Date',\n",
       "       'Lending Request Status', 'Lending Note', 'From IZ',\n",
       "       'From Library Code', 'From Library Name',\n",
       "       'Permanent Physical Location Code', 'Permanent Call Number', 'Barcode',\n",
       "       'MMS Id', 'Network Id', 'ISBN/ISSN', 'Title', 'Borrowing Partner Id',\n",
       "       'Borrowing Partner Name', 'External Identifier',\n",
       "       'Borrowing Internal Id', 'Item Loan Date', 'Item Return Date',\n",
       "       'Item Arrival Date', 'Lending Institution',\n",
       "       'Borrowing Cancellation Reason', 'Borrowing Request Status',\n",
       "       'Borrowing Is Filled', 'Borrowing Note', 'User Group Code', 'To IZ',\n",
       "       'To Library Code', 'To Library Name', 'Borrowing Creation Date',\n",
       "       'Request Type', 'Is test'],\n",
       "      dtype='object')"
      ]
     },
     "execution_count": 15,
     "metadata": {},
     "output_type": "execute_result"
    }
   ],
   "source": [
    "# Group test columns\n",
    "req['Is test'] = req['Lending Is test'] | req['Borrowing Is test'].fillna(False)\n",
    "req.drop(['Lending Is test', 'Borrowing Is test'], axis=1, inplace=True)\n",
    "\n",
    "# Move Renouvaud partner to the equivalent of borrowing requests\n",
    "req.loc[req['Borrowing Partner Name'].fillna('').str.contains('Renouvaud'), 'To IZ'] = 'RENOUVAUD'\n",
    "req.loc[req['Borrowing Partner Name'].fillna('').str.contains('Renouvaud'), 'To Library Name'] = req.loc[req['Borrowing Partner Name'].fillna('').str.contains('Renouvaud'), 'Borrowing Partner Name'].str.split(' > ').apply(lambda x: x[-1])\n",
    "\n",
    "# Copy missing column of borrowing requests columns from lending data\n",
    "def copy_col(row):\n",
    "    if pd.isnull(row['External Identifier']):\n",
    "        row['External Identifier'] = row['Simple external Id']\n",
    "    if pd.isnull(row['External Identifier']):\n",
    "        row['External Identifier'] = row['Simple external Id']\n",
    "    if pd.isnull(row['ISBN']):\n",
    "        row['ISBN'] = row['ISSN']\n",
    "    if pd.isnull(row['Item Sent Date']):\n",
    "        row['Item Sent Date'] = row['Shipping Date']\n",
    "    return row\n",
    "\n",
    "req = req.apply(copy_col, axis=1)\n",
    "\n",
    "# Drop some duplicated columns\n",
    "req.drop(['Simple external Id', 'Lending Partner Id', 'Lending Partner Code', 'Request Completed Indicator', 'ISSN', 'Shipping Date'], axis=1, inplace=True)\n",
    "    \n",
    "req = req.rename(columns={'ISBN':'ISBN/ISSN'})    \n",
    "\n",
    "req.columns"
   ]
  },
  {
   "cell_type": "code",
   "execution_count": 16,
   "id": "81262427",
   "metadata": {},
   "outputs": [],
   "source": [
    "# Reorganise columns\n",
    "req = req[['External Request Id',\n",
    "           'External Identifier',\n",
    "           'Lending Internal Id',\n",
    "           'Borrowing Internal Id',\n",
    "           'From IZ',\n",
    "           'From Library Code',\n",
    "           'From Library Name',\n",
    "           'To IZ',\n",
    "           'To Library Code',\n",
    "           'To Library Name',\n",
    "           'Permanent Physical Location Code',\n",
    "           'Permanent Call Number',\n",
    "           'Barcode',\n",
    "           'MMS Id',\n",
    "           'Network Id', \n",
    "           'ISBN/ISSN',\n",
    "           'Title',\n",
    "           'Borrowing Creation Date',\n",
    "           'Item Sent Date',\n",
    "           'Item Arrival Date',\n",
    "           'Item Loan Date',\n",
    "           'Item Return Date',\n",
    "           'Lending Request Status',\n",
    "           'Borrowing Request Status',\n",
    "           'Borrowing Cancellation Reason',\n",
    "           'Lending Note',\n",
    "           'Borrowing Note',\n",
    "           'User Group Code',\n",
    "           'Borrowing Is Filled',\n",
    "           'Is test',\n",
    "           'Lending Institution',\n",
    "           'Borrowing Partner Name']]"
   ]
  },
  {
   "cell_type": "code",
   "execution_count": 17,
   "id": "71c23e7a",
   "metadata": {},
   "outputs": [],
   "source": [
    "req.to_excel('data/data.xlsx', index=False)"
   ]
  },
  {
   "cell_type": "markdown",
   "id": "3568ee69",
   "metadata": {},
   "source": [
    "# Build reports\n",
    "- not test\n",
    "- TO IZ / From IZ\n",
    "- ['Borrowing Request Status'] not in ['Lending Request Status', 'Deleted', 'Shipped Digitally', 'Rejected by partner', 'Cancelled by partner']\n",
    "- ['Lending Request Status'] not in ['Deleted', 'Rejected the borrower request', 'Cancelled']"
   ]
  },
  {
   "cell_type": "markdown",
   "id": "ff5a5171",
   "metadata": {},
   "source": [
    "### Summary report data\n",
    "- not test\n",
    "- TO IZ / From IZ must be available\n",
    "- ['Lending Request Status'] not in ['Deleted', 'Rejected the borrower request', 'Cancelled']"
   ]
  },
  {
   "cell_type": "code",
   "execution_count": 18,
   "id": "eac1822c",
   "metadata": {},
   "outputs": [],
   "source": [
    "# Suppress requests without IZ info\n",
    "req_simple = req.loc[~pd.isnull(req['To IZ'])].copy()\n",
    "req_simple  = req_simple.loc[~pd.isnull(req_simple ['From IZ'])]\n",
    "\n",
    "# Suppress test requests \n",
    "req_simple  = req_simple.loc[~req_simple ['Is test']]\n",
    "\n",
    "# Suppress cancelled lending requests (lending are master)\n",
    "req_simple = req_simple.loc[~req_simple ['Lending Request Status'].isin(['Deleted', 'Rejected the borrower request', 'Cancelled'])]\n",
    "\n",
    "# Keep only IZ information and unique ID\n",
    "data = req_simple[['From IZ', 'To IZ']].copy()\n",
    "data['Count'] = 1\n",
    "\n",
    "# Build the table: belonging IZ on rows and pickup IZ on columns\n",
    "data = pd.pivot_table(data, columns='To IZ', index='From IZ', aggfunc='count', margins=True).fillna(0).astype(int)\n",
    "data = data.droplevel(0, axis=1).copy()\n",
    "data.index.name = 'Owner IZ'\n",
    "data.columns.name = 'Transit and loan at IZ'"
   ]
  },
  {
   "cell_type": "code",
   "execution_count": 19,
   "id": "283abcaa",
   "metadata": {},
   "outputs": [],
   "source": [
    "# Rapido_requests_summary\n",
    "wb = Workbook()\n",
    "ws = wb.active\n",
    "ws['A1'] = 'Network circulation summary'\n",
    "ws['A1'].font = Font(size=16, bold=True)\n",
    "ws['A2'] = 'This table contains only physical Rapido requests with \"sent date\" between 01-01-2023 - 30-06-2023 (lending request domain).'\n",
    "ws['A3'] = 'When destination IZ is Renouvaud, \"shipping date\" is used (borrowing request domain)'\n",
    "ws['A4'] = ''\n",
    "ws['B5'] = 'Destination IZ'\n",
    "ws['B5'].font = Font(bold=True)\n",
    "\n",
    "for r in dataframe_to_rows(data, index=True, header=True):\n",
    "    ws.append(r)\n",
    "\n",
    "for cell in [i[0] for i in ws[f'A6:A{ws.max_row}']] + list(ws[6]):\n",
    "    cell.style = 'Pandas'\n",
    "\n",
    "dim_holder = DimensionHolder(worksheet=ws)\n",
    "for col in range(ws.min_column, ws.max_column + 1):\n",
    "    if get_column_letter(col) == 'A':\n",
    "        dim_holder[get_column_letter(col)] = ColumnDimension(ws, min=col, max=col, width=10)\n",
    "    else:\n",
    "        dim_holder[get_column_letter(col)] = ColumnDimension(ws, min=col, max=col, width=7)\n",
    "ws.column_dimensions = dim_holder\n",
    "\n",
    "wb.save(f'Rapido_requests_summary_2023_01-06.xlsx')"
   ]
  },
  {
   "cell_type": "markdown",
   "id": "a8035491",
   "metadata": {},
   "source": [
    "### Reports per IZ"
   ]
  },
  {
   "cell_type": "code",
   "execution_count": 20,
   "id": "9a45dbb4",
   "metadata": {},
   "outputs": [],
   "source": [
    "# Rapido_requests_owning_inst\n",
    "df = req.copy()\n",
    "wb_exp = load_workbook('Explanations.xlsx')\n",
    "ws_exp = wb_exp.active\n",
    "\n",
    "for iz in df['From IZ'].unique():\n",
    "    \n",
    "    # Filter by owning IZ\n",
    "    data = df.loc[df['From IZ']==iz]\n",
    "    \n",
    "    wb = Workbook()\n",
    "    ws = wb.active\n",
    "\n",
    "    for r in dataframe_to_rows(data, index=False, header=True):\n",
    "        ws.append(r)\n",
    "\n",
    "    for cell in ws['A'] + ws[1]:\n",
    "        cell.style = 'Pandas'\n",
    "    \n",
    "    ws_2 = wb.create_sheet(\"Explanations\")\n",
    "    copy_sheet_attributes(ws_exp, ws_2)\n",
    "    copy_cell_contents(ws_exp, ws_2)\n",
    "    wb.active = 0\n",
    "    ws = wb.active\n",
    "    set_columns_width(ws)\n",
    "    wb.save(f'reports/{iz}_Rapido_requests_owning_inst_2023_01-06.xlsx')"
   ]
  },
  {
   "cell_type": "code",
   "execution_count": 21,
   "id": "4f337dde",
   "metadata": {},
   "outputs": [],
   "source": [
    "# Rapido_requests_pickup_loc\n",
    "for iz in df['To IZ'].unique():\n",
    "    if pd.isnull(iz):\n",
    "        continue\n",
    "        \n",
    "    # Filter by destination IZ (pickup location)\n",
    "    data = df.loc[df['To IZ']==iz]\n",
    "    \n",
    "    wb = Workbook()\n",
    "    ws = wb.active\n",
    "\n",
    "    for r in dataframe_to_rows(data, index=False, header=True):\n",
    "        ws.append(r)\n",
    "\n",
    "    for cell in ws['A'] + ws[1]:\n",
    "        cell.style = 'Pandas'\n",
    "    \n",
    "    ws_2 = wb.create_sheet(\"Explanations\")\n",
    "    copy_sheet_attributes(ws_exp, ws_2)\n",
    "    copy_cell_contents(ws_exp, ws_2)\n",
    "    wb.active = 0\n",
    "    ws = wb.active\n",
    "    set_columns_width(ws)\n",
    "    wb.save(f'reports/{iz}_Rapido_requests_pickup_loc_2022_11-12.xlsx')"
   ]
  },
  {
   "cell_type": "code",
   "execution_count": null,
   "id": "91fa29a6",
   "metadata": {},
   "outputs": [],
   "source": []
  }
 ],
 "metadata": {
  "kernelspec": {
   "display_name": "Python 3 (ipykernel)",
   "language": "python",
   "name": "python3"
  },
  "language_info": {
   "codemirror_mode": {
    "name": "ipython",
    "version": 3
   },
   "file_extension": ".py",
   "mimetype": "text/x-python",
   "name": "python",
   "nbconvert_exporter": "python",
   "pygments_lexer": "ipython3",
   "version": "3.9.7"
  }
 },
 "nbformat": 4,
 "nbformat_minor": 5
}
